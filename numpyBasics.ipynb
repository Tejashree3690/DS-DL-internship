{
 "cells": [
  {
   "cell_type": "code",
   "execution_count": 1,
   "id": "02483841-cdbd-4ea0-b449-2b35a6c28e44",
   "metadata": {},
   "outputs": [],
   "source": [
    "import numpy as np"
   ]
  },
  {
   "cell_type": "code",
   "execution_count": 15,
   "id": "9762309d-448e-4f56-8cf0-734f60c32e33",
   "metadata": {},
   "outputs": [
    {
     "data": {
      "text/plain": [
       "array([[1, 2, 3],\n",
       "       [4, 5, 6]])"
      ]
     },
     "execution_count": 15,
     "metadata": {},
     "output_type": "execute_result"
    }
   ],
   "source": [
    "inputarray = np.array ([\n",
    "    [1,2,3],\n",
    "    [4,5,6]\n",
    "])\n",
    "inputarray"
   ]
  },
  {
   "cell_type": "code",
   "execution_count": 16,
   "id": "945db966-255c-4c49-90b8-88703ea81d57",
   "metadata": {},
   "outputs": [
    {
     "data": {
      "text/plain": [
       "np.int64(5)"
      ]
     },
     "execution_count": 16,
     "metadata": {},
     "output_type": "execute_result"
    }
   ],
   "source": [
    "inputarray[1][1]"
   ]
  },
  {
   "cell_type": "code",
   "execution_count": 17,
   "id": "764f986f-d865-41f6-b48e-f9d8dd8c2967",
   "metadata": {},
   "outputs": [
    {
     "data": {
      "text/plain": [
       "array([2, 3])"
      ]
     },
     "execution_count": 17,
     "metadata": {},
     "output_type": "execute_result"
    }
   ],
   "source": [
    "inputarray[0][1:]"
   ]
  },
  {
   "cell_type": "code",
   "execution_count": 18,
   "id": "04ae1e04-01de-4d7f-9315-445a74176638",
   "metadata": {},
   "outputs": [
    {
     "data": {
      "text/plain": [
       "array([   2,    2,   34,   62, 1200])"
      ]
     },
     "execution_count": 18,
     "metadata": {},
     "output_type": "execute_result"
    }
   ],
   "source": [
    "arr = np.array([1200,34,2,62,2])\n",
    "np.sort(arr)"
   ]
  },
  {
   "cell_type": "code",
   "execution_count": null,
   "id": "869317ef-54d7-42ab-963b-bdc7e1f57a4d",
   "metadata": {},
   "outputs": [],
   "source": []
  }
 ],
 "metadata": {
  "kernelspec": {
   "display_name": "Python 3 (ipykernel)",
   "language": "python",
   "name": "python3"
  },
  "language_info": {
   "codemirror_mode": {
    "name": "ipython",
    "version": 3
   },
   "file_extension": ".py",
   "mimetype": "text/x-python",
   "name": "python",
   "nbconvert_exporter": "python",
   "pygments_lexer": "ipython3",
   "version": "3.12.9"
  }
 },
 "nbformat": 4,
 "nbformat_minor": 5
}
