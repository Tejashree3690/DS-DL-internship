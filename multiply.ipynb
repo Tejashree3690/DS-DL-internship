{
 "cells": [
  {
   "cell_type": "markdown",
   "id": "9d6f446f-5d3f-428c-876d-3a9fb66eaf28",
   "metadata": {},
   "source": [
    "### Multiply all the odd numbers in the given list"
   ]
  },
  {
   "cell_type": "code",
   "execution_count": 2,
   "id": "5033d4e5-b717-47df-aab7-a5960150aaad",
   "metadata": {},
   "outputs": [],
   "source": [
    "random_list={1,2,3,4,5,6}"
   ]
  },
  {
   "cell_type": "code",
   "execution_count": 9,
   "id": "415199ac-42ca-4e9b-ac52-417b8e8e568c",
   "metadata": {},
   "outputs": [
    {
     "name": "stdout",
     "output_type": "stream",
     "text": [
      "The final answer is: 15\n"
     ]
    }
   ],
   "source": [
    "result =1\n",
    "\n",
    "for _ in random_list:\n",
    "    if _ % 2 != 0 :\n",
    "        result *= _\n",
    "\n",
    "print (f'The final answer is: {result}')"
   ]
  },
  {
   "cell_type": "code",
   "execution_count": null,
   "id": "98546792-739f-46da-8ab4-f8c2c30678a1",
   "metadata": {},
   "outputs": [],
   "source": []
  }
 ],
 "metadata": {
  "kernelspec": {
   "display_name": "Python 3 (ipykernel)",
   "language": "python",
   "name": "python3"
  },
  "language_info": {
   "codemirror_mode": {
    "name": "ipython",
    "version": 3
   },
   "file_extension": ".py",
   "mimetype": "text/x-python",
   "name": "python",
   "nbconvert_exporter": "python",
   "pygments_lexer": "ipython3",
   "version": "3.12.9"
  }
 },
 "nbformat": 4,
 "nbformat_minor": 5
}
