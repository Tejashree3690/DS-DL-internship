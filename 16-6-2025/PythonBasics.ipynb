{
 "cells": [
  {
   "cell_type": "markdown",
   "id": "7c7f74a3-3d43-41a3-9eea-81e5c314f64e",
   "metadata": {},
   "source": [
    "### Basic Operations"
   ]
  },
  {
   "cell_type": "code",
   "execution_count": 5,
   "id": "1eee71d3-66b5-4b56-9db0-8c26dc79d083",
   "metadata": {},
   "outputs": [
    {
     "name": "stdout",
     "output_type": "stream",
     "text": [
      "8\n"
     ]
    }
   ],
   "source": [
    "addition = 3 + 5\n",
    "print (addition)"
   ]
  },
  {
   "cell_type": "markdown",
   "id": "907135e2-8577-4eb9-acdd-46ec6dee0269",
   "metadata": {},
   "source": [
    "### Data Structures"
   ]
  },
  {
   "cell_type": "code",
   "execution_count": 8,
   "id": "aa63856e-7a29-4d3a-acfa-f3e04a192067",
   "metadata": {},
   "outputs": [],
   "source": [
    "randomList = [1,2,3,4,5,6]"
   ]
  },
  {
   "cell_type": "markdown",
   "id": "1987c539-64e4-442f-a40d-c285c0df42ce",
   "metadata": {},
   "source": [
    "### Multiply all the odd numbers in the given list"
   ]
  },
  {
   "cell_type": "code",
   "execution_count": 11,
   "id": "e1002d44-563b-4fcb-b33d-28ba72bfc9a9",
   "metadata": {},
   "outputs": [
    {
     "name": "stdout",
     "output_type": "stream",
     "text": [
      "The final answer is : 15\n"
     ]
    }
   ],
   "source": [
    "result = 1\n",
    "\n",
    "for _ in randomList:\n",
    "    if _ % 2 !=0:\n",
    "        result *= _\n",
    "\n",
    "print (f'The final answer is : {result}')"
   ]
  },
  {
   "cell_type": "code",
   "execution_count": null,
   "id": "f7bd1698-44f0-4ce6-910d-7d0f4b61af48",
   "metadata": {},
   "outputs": [],
   "source": []
  }
 ],
 "metadata": {
  "kernelspec": {
   "display_name": "newkernel",
   "language": "python",
   "name": "newkernel"
  },
  "language_info": {
   "codemirror_mode": {
    "name": "ipython",
    "version": 3
   },
   "file_extension": ".py",
   "mimetype": "text/x-python",
   "name": "python",
   "nbconvert_exporter": "python",
   "pygments_lexer": "ipython3",
   "version": "3.13.1"
  }
 },
 "nbformat": 4,
 "nbformat_minor": 5
}
