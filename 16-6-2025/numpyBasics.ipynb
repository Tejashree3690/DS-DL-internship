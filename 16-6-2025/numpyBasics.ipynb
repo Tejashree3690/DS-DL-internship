{
 "cells": [
  {
   "cell_type": "code",
   "execution_count": 2,
   "id": "08cea506-30fc-48c8-9920-031040d8e91e",
   "metadata": {},
   "outputs": [],
   "source": [
    "import numpy as np"
   ]
  },
  {
   "cell_type": "code",
   "execution_count": 4,
   "id": "71d7cb66-8a27-4bab-9aba-3d05b6c04c90",
   "metadata": {},
   "outputs": [
    {
     "data": {
      "text/plain": [
       "array([[1, 2, 3],\n",
       "       [4, 5, 6]])"
      ]
     },
     "execution_count": 4,
     "metadata": {},
     "output_type": "execute_result"
    }
   ],
   "source": [
    "inputArray = np.array ([\n",
    "    [1,2,3],\n",
    "    [4,5,6]\n",
    "])\n",
    "\n",
    "inputArray"
   ]
  },
  {
   "cell_type": "code",
   "execution_count": 12,
   "id": "8377e9e2-40a1-407b-9d91-0fa78386f7ab",
   "metadata": {},
   "outputs": [
    {
     "data": {
      "text/plain": [
       "(2, 3)"
      ]
     },
     "execution_count": 12,
     "metadata": {},
     "output_type": "execute_result"
    }
   ],
   "source": [
    "inputArray.shape"
   ]
  },
  {
   "cell_type": "code",
   "execution_count": 14,
   "id": "80678fa1-d486-4994-8ff0-450d72f4f9a2",
   "metadata": {},
   "outputs": [
    {
     "data": {
      "text/plain": [
       "np.int64(2)"
      ]
     },
     "execution_count": 14,
     "metadata": {},
     "output_type": "execute_result"
    }
   ],
   "source": [
    "inputArray[0][1]"
   ]
  },
  {
   "cell_type": "code",
   "execution_count": 16,
   "id": "3b30e59d-034d-4d7a-9cd1-288dbba8d8c9",
   "metadata": {},
   "outputs": [
    {
     "data": {
      "text/plain": [
       "array([2, 3])"
      ]
     },
     "execution_count": 16,
     "metadata": {},
     "output_type": "execute_result"
    }
   ],
   "source": [
    "inputArray[0][1:]"
   ]
  },
  {
   "cell_type": "code",
   "execution_count": 18,
   "id": "0839c50c-f47f-44b8-bc93-8fa35612ac2c",
   "metadata": {},
   "outputs": [
    {
     "data": {
      "text/plain": [
       "array([0., 0.])"
      ]
     },
     "execution_count": 18,
     "metadata": {},
     "output_type": "execute_result"
    }
   ],
   "source": [
    "np.zeros (2)"
   ]
  },
  {
   "cell_type": "code",
   "execution_count": 20,
   "id": "69d27e81-f944-415f-8f39-8809b93ad9fe",
   "metadata": {},
   "outputs": [
    {
     "data": {
      "text/plain": [
       "array([1., 1., 1.])"
      ]
     },
     "execution_count": 20,
     "metadata": {},
     "output_type": "execute_result"
    }
   ],
   "source": [
    "np.ones (3)"
   ]
  },
  {
   "cell_type": "markdown",
   "id": "e7132375-c934-403a-a568-53b549a96d77",
   "metadata": {},
   "source": [
    "### Sorting the array"
   ]
  },
  {
   "cell_type": "code",
   "execution_count": 23,
   "id": "8e06c83a-dfeb-4e4c-93ae-544eb4bdcd56",
   "metadata": {},
   "outputs": [],
   "source": [
    "arr = np.array([2,1,5,3,7,4,5,8])"
   ]
  },
  {
   "cell_type": "code",
   "execution_count": 25,
   "id": "a03afa3c-32a2-43a9-9364-18843d3f1912",
   "metadata": {},
   "outputs": [
    {
     "data": {
      "text/plain": [
       "array([1, 2, 3, 4, 5, 5, 7, 8])"
      ]
     },
     "execution_count": 25,
     "metadata": {},
     "output_type": "execute_result"
    }
   ],
   "source": [
    "np.sort (arr)"
   ]
  },
  {
   "cell_type": "markdown",
   "id": "9f2fd767-3652-4484-af1d-53ad3cb44b9d",
   "metadata": {},
   "source": [
    "### Concat the array"
   ]
  },
  {
   "cell_type": "code",
   "execution_count": 28,
   "id": "12e16a6d-5b72-4f47-8db7-9e95658d3379",
   "metadata": {},
   "outputs": [],
   "source": [
    "a = np.array([1,2,3,4])\n",
    "b = np.array([5,6,7,8])"
   ]
  },
  {
   "cell_type": "code",
   "execution_count": 30,
   "id": "179937cd-0457-403e-9f54-6f419aa84748",
   "metadata": {},
   "outputs": [
    {
     "data": {
      "text/plain": [
       "array([1, 2, 3, 4, 5, 6, 7, 8])"
      ]
     },
     "execution_count": 30,
     "metadata": {},
     "output_type": "execute_result"
    }
   ],
   "source": [
    "np.concatenate((a,b))"
   ]
  },
  {
   "cell_type": "markdown",
   "id": "a2d03656-ddde-440c-9562-fc999d6ff2be",
   "metadata": {},
   "source": [
    "### Reshape the array"
   ]
  },
  {
   "cell_type": "code",
   "execution_count": 35,
   "id": "c37bd5ff-8e96-45e6-8aa2-7cb62d8d2338",
   "metadata": {},
   "outputs": [
    {
     "name": "stdout",
     "output_type": "stream",
     "text": [
      "[0 1 2 3 4 5]\n"
     ]
    }
   ],
   "source": [
    "a = np.arange(6)\n",
    "print(a)"
   ]
  },
  {
   "cell_type": "code",
   "execution_count": null,
   "id": "57341bde-dda0-4c37-90ef-08e91c29d7ea",
   "metadata": {},
   "outputs": [],
   "source": []
  }
 ],
 "metadata": {
  "kernelspec": {
   "display_name": "newkernel",
   "language": "python",
   "name": "newkernel"
  },
  "language_info": {
   "codemirror_mode": {
    "name": "ipython",
    "version": 3
   },
   "file_extension": ".py",
   "mimetype": "text/x-python",
   "name": "python",
   "nbconvert_exporter": "python",
   "pygments_lexer": "ipython3",
   "version": "3.13.1"
  }
 },
 "nbformat": 4,
 "nbformat_minor": 5
}
